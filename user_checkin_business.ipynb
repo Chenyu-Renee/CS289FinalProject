{
 "cells": [
  {
   "cell_type": "code",
   "execution_count": 1,
   "metadata": {
    "collapsed": false
   },
   "outputs": [],
   "source": [
    "import json\n",
    "import os\n",
    "import itertools\n",
    "import numpy as np\n",
    "import nltk\n",
    "from nltk.corpus import stopwords\n",
    "from collections import Counter\n",
    "import simplejson"
   ]
  },
  {
   "cell_type": "markdown",
   "metadata": {},
   "source": [
    "### Check in data"
   ]
  },
  {
   "cell_type": "code",
   "execution_count": 66,
   "metadata": {
    "collapsed": false
   },
   "outputs": [],
   "source": [
    "checkin=[]\n",
    "with open('./yelp_training_set/yelp_training_set_checkin.json') as f:\n",
    "    for line in f:\n",
    "        checkin.append(json.loads(line))"
   ]
  },
  {
   "cell_type": "code",
   "execution_count": 67,
   "metadata": {
    "collapsed": false
   },
   "outputs": [],
   "source": [
    "checkin_businessid=list()\n",
    "for i in range(len(checkin)):\n",
    "    checkin_businessid.append(checkin[i]['business_id'])"
   ]
  },
  {
   "cell_type": "code",
   "execution_count": 68,
   "metadata": {
    "collapsed": false
   },
   "outputs": [],
   "source": [
    "checkin_info=list()\n",
    "for i in range(len(checkin)):\n",
    "    checkin_info.append(checkin[i]['checkin_info'])"
   ]
  },
  {
   "cell_type": "code",
   "execution_count": 69,
   "metadata": {
    "collapsed": false
   },
   "outputs": [],
   "source": [
    "checkin_info = np.array(checkin_info)"
   ]
  },
  {
   "cell_type": "markdown",
   "metadata": {},
   "source": [
    "### User data"
   ]
  },
  {
   "cell_type": "code",
   "execution_count": 2,
   "metadata": {
    "collapsed": false
   },
   "outputs": [],
   "source": [
    "user=[]\n",
    "with open('./yelp_training_set/yelp_training_set_user.json') as f:\n",
    "    for line in f:\n",
    "        user.append(json.loads(line))"
   ]
  },
  {
   "cell_type": "code",
   "execution_count": 3,
   "metadata": {
    "collapsed": false
   },
   "outputs": [],
   "source": [
    "user_userid=list()\n",
    "for i in range(len(user)):\n",
    "    user_userid.append(user[i]['user_id'])"
   ]
  },
  {
   "cell_type": "code",
   "execution_count": 4,
   "metadata": {
    "collapsed": false
   },
   "outputs": [],
   "source": [
    "user_name=list()\n",
    "for i in range(len(user)):\n",
    "    user_name.append(user[i]['name'])"
   ]
  },
  {
   "cell_type": "code",
   "execution_count": 5,
   "metadata": {
    "collapsed": false
   },
   "outputs": [],
   "source": [
    "user_review_count=list()\n",
    "for i in range(len(user)):\n",
    "    user_review_count.append(user[i]['review_count'])"
   ]
  },
  {
   "cell_type": "code",
   "execution_count": 6,
   "metadata": {
    "collapsed": false
   },
   "outputs": [],
   "source": [
    "user_average_stars=list()\n",
    "for i in range(len(user)):\n",
    "    user_average_stars.append(user[i]['average_stars'])"
   ]
  },
  {
   "cell_type": "code",
   "execution_count": 7,
   "metadata": {
    "collapsed": false
   },
   "outputs": [],
   "source": [
    "user_votes=list()\n",
    "for i in range(len(user)):\n",
    "    user_votes.append(user[i]['votes'])"
   ]
  },
  {
   "cell_type": "code",
   "execution_count": 8,
   "metadata": {
    "collapsed": false
   },
   "outputs": [],
   "source": [
    "user_votes_cool = list()\n",
    "for i in range(len(user_votes)):\n",
    "    user_votes_cool.append(user_votes[i]['cool'])"
   ]
  },
  {
   "cell_type": "code",
   "execution_count": 9,
   "metadata": {
    "collapsed": false
   },
   "outputs": [],
   "source": [
    "user_votes_funny = list()\n",
    "for i in range(len(user_votes)):\n",
    "    user_votes_funny.append(user_votes[i]['funny'])"
   ]
  },
  {
   "cell_type": "code",
   "execution_count": 10,
   "metadata": {
    "collapsed": false
   },
   "outputs": [],
   "source": [
    "user_votes_useful = list()\n",
    "for i in range(len(user_votes)):\n",
    "    user_votes_useful.append(user_votes[i]['useful'])"
   ]
  },
  {
   "cell_type": "markdown",
   "metadata": {},
   "source": [
    "### Business data"
   ]
  },
  {
   "cell_type": "code",
   "execution_count": 70,
   "metadata": {
    "collapsed": true
   },
   "outputs": [],
   "source": [
    "business=[]\n",
    "with open('./yelp_training_set/yelp_training_set_business.json') as f:\n",
    "    for line in f:\n",
    "        business.append(json.loads(line))"
   ]
  },
  {
   "cell_type": "code",
   "execution_count": 71,
   "metadata": {
    "collapsed": false
   },
   "outputs": [],
   "source": [
    "business_businessid = list()\n",
    "for i in range(len(business)):\n",
    "    business_businessid.append(business[i]['business_id'])"
   ]
  },
  {
   "cell_type": "code",
   "execution_count": 72,
   "metadata": {
    "collapsed": false
   },
   "outputs": [],
   "source": [
    "business_categories = list()\n",
    "for i in range(len(business)):\n",
    "    business_categories.append(business[i]['categories'])"
   ]
  },
  {
   "cell_type": "code",
   "execution_count": 73,
   "metadata": {
    "collapsed": false
   },
   "outputs": [],
   "source": [
    "business_city = list()\n",
    "for i in range(len(business)):\n",
    "    business_city.append(business[i]['city'])"
   ]
  },
  {
   "cell_type": "code",
   "execution_count": 74,
   "metadata": {
    "collapsed": false
   },
   "outputs": [],
   "source": [
    "business_state = list()\n",
    "for i in range(len(business)):\n",
    "    business_state.append(business[i]['state'])"
   ]
  },
  {
   "cell_type": "code",
   "execution_count": 75,
   "metadata": {
    "collapsed": false
   },
   "outputs": [],
   "source": [
    "business_review_count = list()\n",
    "for i in range(len(business)):\n",
    "    business_review_count.append(business[i]['review_count'])"
   ]
  },
  {
   "cell_type": "code",
   "execution_count": 76,
   "metadata": {
    "collapsed": false
   },
   "outputs": [],
   "source": [
    "business_name = list()\n",
    "for i in range(len(business)):\n",
    "    business_name.append(business[i]['name'])"
   ]
  },
  {
   "cell_type": "code",
   "execution_count": 77,
   "metadata": {
    "collapsed": false
   },
   "outputs": [],
   "source": [
    "business_stars = list()\n",
    "for i in range(len(business)):\n",
    "    business_stars.append(business[i]['stars'])"
   ]
  },
  {
   "cell_type": "code",
   "execution_count": 78,
   "metadata": {
    "collapsed": false
   },
   "outputs": [
    {
     "data": {
      "text/plain": [
       "11537"
      ]
     },
     "execution_count": 78,
     "metadata": {},
     "output_type": "execute_result"
    }
   ],
   "source": [
    "len(business_name)"
   ]
  },
  {
   "cell_type": "code",
   "execution_count": 79,
   "metadata": {
    "collapsed": false
   },
   "outputs": [],
   "source": [
    "import matplotlib.pyplot as plt\n",
    "%matplotlib inline"
   ]
  },
  {
   "cell_type": "code",
   "execution_count": 43,
   "metadata": {
    "collapsed": false
   },
   "outputs": [
    {
     "data": {
      "text/plain": [
       "[<matplotlib.lines.Line2D at 0x113c44240>]"
      ]
     },
     "execution_count": 43,
     "metadata": {},
     "output_type": "execute_result"
    },
    {
     "data": {
      "image/png": "[encoded data removed]",
      "text/plain": [
       "<matplotlib.figure.Figure at 0x1139d7198>"
      ]
     },
     "metadata": {},
     "output_type": "display_data"
    }
   ],
   "source": [
    "plt.plot(np.sort(np.array(user_votes_useful)[np.array(user_votes_useful)<50]))"
   ]
  },
  {
   "cell_type": "code",
   "execution_count": 50,
   "metadata": {
    "collapsed": false
   },
   "outputs": [],
   "source": [
    "import pandas as pd"
   ]
  },
  {
   "cell_type": "code",
   "execution_count": 53,
   "metadata": {
    "collapsed": false
   },
   "outputs": [],
   "source": [
    "user_ID = pd.Series(user_userid)\n",
    "user_count =pd.Series(user_review_count)\n",
    "user_star =pd.Series(user_average_stars)\n",
    "user_useful =pd.Series(user_votes_useful)"
   ]
  },
  {
   "cell_type": "code",
   "execution_count": 60,
   "metadata": {
    "collapsed": false
   },
   "outputs": [],
   "source": [
    "user_DF = pd.DataFrame({'user_id': user_ID ,\n",
    "                        'user_count': user_count,\n",
    "                        'user_star': user_star,\n",
    "                        'user_useful': user_useful})"
   ]
  },
  {
   "cell_type": "code",
   "execution_count": 81,
   "metadata": {
    "collapsed": false
   },
   "outputs": [],
   "source": [
    "business_DF = pd.DataFrame({'business_id': pd.Series(business_businessid),\n",
    "                        'business_categories':pd.Series(business_categories),\n",
    "                        'business_city':pd.Series(business_city),\n",
    "                        'buiness_review_count': pd.Series(business_review_count),\n",
    "                        'business_stars':pd.Series(business_stars),\n",
    "                        'checkin_info': pd.Series(checkin_info)})"
   ]
  },
  {
   "cell_type": "code",
   "execution_count": 84,
   "metadata": {
    "collapsed": false
   },
   "outputs": [],
   "source": [
    "user_DF.to_csv(\"user_DF.csv\")"
   ]
  },
  {
   "cell_type": "code",
   "execution_count": 85,
   "metadata": {
    "collapsed": true
   },
   "outputs": [],
   "source": [
    "business_DF.to_csv(\"business_DF.csv\")"
   ]
  },
  {
   "cell_type": "code",
   "execution_count": null,
   "metadata": {
    "collapsed": true
   },
   "outputs": [],
   "source": []
  }
 ],
 "metadata": {
  "kernelspec": {
   "display_name": "Python 3",
   "language": "python",
   "name": "python3"
  },
  "language_info": {
   "codemirror_mode": {
    "name": "ipython",
    "version": 3
   },
   "file_extension": ".py",
   "mimetype": "text/x-python",
   "name": "python",
   "nbconvert_exporter": "python",
   "pygments_lexer": "ipython3",
   "version": "3.5.1"
  }
 },
 "nbformat": 4,
 "nbformat_minor": 0
}
