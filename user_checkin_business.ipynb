{
 "cells": [
  {
   "cell_type": "code",
   "execution_count": 11,
   "metadata": {
    "collapsed": false
   },
   "outputs": [],
   "source": [
    "import json\n",
    "import os\n",
    "import itertools\n",
    "import numpy as np\n",
    "import nltk\n",
    "from nltk.corpus import stopwords\n",
    "from collections import Counter\n",
    "import simplejson"
   ]
  },
  {
   "cell_type": "markdown",
   "metadata": {},
   "source": [
    "### Check in data"
   ]
  },
  {
   "cell_type": "code",
   "execution_count": 22,
   "metadata": {
    "collapsed": false
   },
   "outputs": [],
   "source": [
    "checkin=[]\n",
    "with open('./yelp_training_set/yelp_training_set_checkin.json') as f:\n",
    "    for line in f:\n",
    "        checkin.append(json.loads(line))"
   ]
  },
  {
   "cell_type": "code",
   "execution_count": 24,
   "metadata": {
    "collapsed": false
   },
   "outputs": [],
   "source": [
    "checkin_businessid=list()\n",
    "for i in range(len(checkin)):\n",
    "    checkin_businessid.append(checkin[i]['business_id'])"
   ]
  },
  {
   "cell_type": "code",
   "execution_count": 28,
   "metadata": {
    "collapsed": false
   },
   "outputs": [],
   "source": [
    "checkin_info=list()\n",
    "for i in range(len(checkin)):\n",
    "    checkin_info.append(checkin[i]['checkin_info'])"
   ]
  },
  {
   "cell_type": "code",
   "execution_count": 32,
   "metadata": {
    "collapsed": false
   },
   "outputs": [],
   "source": [
    "checkin_info = np.array(checkin_info)"
   ]
  },
  {
   "cell_type": "markdown",
   "metadata": {},
   "source": [
    "### User data"
   ]
  },
  {
   "cell_type": "code",
   "execution_count": 65,
   "metadata": {
    "collapsed": false
   },
   "outputs": [],
   "source": [
    "user=[]\n",
    "with open('./yelp_training_set/yelp_training_set_user.json') as f:\n",
    "    for line in f:\n",
    "        user.append(json.loads(line))"
   ]
  },
  {
   "cell_type": "code",
   "execution_count": 66,
   "metadata": {
    "collapsed": false
   },
   "outputs": [],
   "source": [
    "user_userid=list()\n",
    "for i in range(len(user)):\n",
    "    user_userid.append(user[i]['user_id'])"
   ]
  },
  {
   "cell_type": "code",
   "execution_count": 67,
   "metadata": {
    "collapsed": false
   },
   "outputs": [],
   "source": [
    "user_name=list()\n",
    "for i in range(len(user)):\n",
    "    user_name.append(user[i]['name'])"
   ]
  },
  {
   "cell_type": "code",
   "execution_count": 68,
   "metadata": {
    "collapsed": false
   },
   "outputs": [],
   "source": [
    "user_review_count=list()\n",
    "for i in range(len(user)):\n",
    "    user_review_count.append(user[i]['review_count'])"
   ]
  },
  {
   "cell_type": "code",
   "execution_count": 70,
   "metadata": {
    "collapsed": false
   },
   "outputs": [],
   "source": [
    "user_average_stars=list()\n",
    "for i in range(len(user)):\n",
    "    user_average_stars.append(user[i]['average_stars'])"
   ]
  },
  {
   "cell_type": "code",
   "execution_count": 72,
   "metadata": {
    "collapsed": false
   },
   "outputs": [],
   "source": [
    "user_votes=list()\n",
    "for i in range(len(user)):\n",
    "    user_votes.append(user[i]['votes'])"
   ]
  },
  {
   "cell_type": "code",
   "execution_count": 77,
   "metadata": {
    "collapsed": false
   },
   "outputs": [],
   "source": [
    "user_votes_cool = list()\n",
    "for i in range(len(user_votes)):\n",
    "    user_votes_cool.append(user_votes[i]['cool'])"
   ]
  },
  {
   "cell_type": "code",
   "execution_count": 79,
   "metadata": {
    "collapsed": false
   },
   "outputs": [],
   "source": [
    "user_votes_funny = list()\n",
    "for i in range(len(user_votes)):\n",
    "    user_votes_funny.append(user_votes[i]['funny'])"
   ]
  },
  {
   "cell_type": "code",
   "execution_count": 83,
   "metadata": {
    "collapsed": false
   },
   "outputs": [],
   "source": [
    "user_votes_useful = list()\n",
    "for i in range(len(user_votes)):\n",
    "    user_votes_useful.append(user_votes[i]['useful'])"
   ]
  },
  {
   "cell_type": "markdown",
   "metadata": {},
   "source": [
    "### Business data"
   ]
  },
  {
   "cell_type": "code",
   "execution_count": 85,
   "metadata": {
    "collapsed": true
   },
   "outputs": [],
   "source": [
    "business=[]\n",
    "with open('./yelp_training_set/yelp_training_set_business.json') as f:\n",
    "    for line in f:\n",
    "        business.append(json.loads(line))"
   ]
  },
  {
   "cell_type": "code",
   "execution_count": 90,
   "metadata": {
    "collapsed": false
   },
   "outputs": [],
   "source": [
    "business_businessid = list()\n",
    "for i in range(len(business)):\n",
    "    business_businessid.append(business[i]['business_id'])"
   ]
  },
  {
   "cell_type": "code",
   "execution_count": 92,
   "metadata": {
    "collapsed": false
   },
   "outputs": [],
   "source": [
    "business_categories = list()\n",
    "for i in range(len(business)):\n",
    "    business_categories.append(business[i]['categories'])"
   ]
  },
  {
   "cell_type": "code",
   "execution_count": 98,
   "metadata": {
    "collapsed": false
   },
   "outputs": [],
   "source": [
    "business_city = list()\n",
    "for i in range(len(business)):\n",
    "    business_city.append(business[i]['city'])"
   ]
  },
  {
   "cell_type": "code",
   "execution_count": 104,
   "metadata": {
    "collapsed": false
   },
   "outputs": [],
   "source": [
    "business_state = list()\n",
    "for i in range(len(business)):\n",
    "    business_state.append(business[i]['state'])"
   ]
  },
  {
   "cell_type": "code",
   "execution_count": 106,
   "metadata": {
    "collapsed": false
   },
   "outputs": [],
   "source": [
    "business_review_count = list()\n",
    "for i in range(len(business)):\n",
    "    business_review_count.append(business[i]['review_count'])"
   ]
  },
  {
   "cell_type": "code",
   "execution_count": 108,
   "metadata": {
    "collapsed": false
   },
   "outputs": [],
   "source": [
    "business_name = list()\n",
    "for i in range(len(business)):\n",
    "    business_name.append(business[i]['name'])"
   ]
  },
  {
   "cell_type": "code",
   "execution_count": 114,
   "metadata": {
    "collapsed": false
   },
   "outputs": [],
   "source": [
    "business_stars = list()\n",
    "for i in range(len(business)):\n",
    "    business_stars.append(business[i]['stars'])"
   ]
  },
  {
   "cell_type": "code",
   "execution_count": 117,
   "metadata": {
    "collapsed": false
   },
   "outputs": [
    {
     "data": {
      "text/plain": [
       "11537"
      ]
     },
     "execution_count": 117,
     "metadata": {},
     "output_type": "execute_result"
    }
   ],
   "source": [
    "len(business_name)"
   ]
  },
  {
   "cell_type": "code",
   "execution_count": null,
   "metadata": {
    "collapsed": true
   },
   "outputs": [],
   "source": []
  }
 ],
 "metadata": {
  "kernelspec": {
   "display_name": "Python 3",
   "language": "python",
   "name": "python3"
  },
  "language_info": {
   "codemirror_mode": {
    "name": "ipython",
    "version": 3
   },
   "file_extension": ".py",
   "mimetype": "text/x-python",
   "name": "python",
   "nbconvert_exporter": "python",
   "pygments_lexer": "ipython3",
   "version": "3.5.1"
  }
 },
 "nbformat": 4,
 "nbformat_minor": 0
}
